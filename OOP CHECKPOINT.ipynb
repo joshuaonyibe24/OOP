{
 "cells": [
  {
   "cell_type": "code",
   "execution_count": 1,
   "id": "41244510",
   "metadata": {},
   "outputs": [],
   "source": [
    "\n",
    " class Account:\n",
    "    def __init__(self, account_number, account_balance, account_holder, account_deposit):\n",
    "        self.account_number = account_number\n",
    "        self.account_balance = account_balance\n",
    "        self.account_holder = account_holder\n",
    "        self.account_deposit = account_deposit\n",
    "    \n",
    "    def deposit(self, amount):\n",
    "        self.account_balance += amount\n",
    "        \n",
    "    \n",
    "    def withdraw(self, amount):\n",
    "        if self.account_balance >= amount:\n",
    "            self.account_balance -= amount\n",
    "        else:\n",
    "            print(\"Insufficient balance.\")\n",
    "    \n",
    "    def check_balance(self):\n",
    "        return self.account_balance"
   ]
  },
  {
   "cell_type": "code",
   "execution_count": 2,
   "id": "26944c6e",
   "metadata": {},
   "outputs": [
    {
     "name": "stdout",
     "output_type": "stream",
     "text": [
      "Current balance: 23500.0\n"
     ]
    }
   ],
   "source": [
    "\n",
    "account_1 = Account(\"007878787\", 23000.0, \"esther\", 400)\n",
    "\n",
    "account_1.deposit(500.0)\n",
    "print(\"Current balance:\", account_1.check_balance())"
   ]
  },
  {
   "cell_type": "code",
   "execution_count": 3,
   "id": "1d2e00f1",
   "metadata": {},
   "outputs": [
    {
     "name": "stdout",
     "output_type": "stream",
     "text": [
      "Current balance: 23300.0\n"
     ]
    }
   ],
   "source": [
    "\n",
    "account_1.withdraw(200.0)\n",
    "print(\"Current balance:\", account_1.check_balance())\n",
    "     "
   ]
  },
  {
   "cell_type": "code",
   "execution_count": null,
   "id": "f01efc59",
   "metadata": {},
   "outputs": [],
   "source": []
  }
 ],
 "metadata": {
  "kernelspec": {
   "display_name": "Python 3 (ipykernel)",
   "language": "python",
   "name": "python3"
  },
  "language_info": {
   "codemirror_mode": {
    "name": "ipython",
    "version": 3
   },
   "file_extension": ".py",
   "mimetype": "text/x-python",
   "name": "python",
   "nbconvert_exporter": "python",
   "pygments_lexer": "ipython3",
   "version": "3.9.13"
  }
 },
 "nbformat": 4,
 "nbformat_minor": 5
}
